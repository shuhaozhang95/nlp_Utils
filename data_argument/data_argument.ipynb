{
 "cells": [
  {
   "cell_type": "markdown",
   "metadata": {},
   "source": [
    "## 数据增强 Data Argument"
   ]
  },
  {
   "cell_type": "markdown",
   "metadata": {},
   "source": [
    "整理目前使用的几种数据增强方法  \n",
    "\n",
    "1. 传统方法\n",
    "   增删换改\n",
    "2. 人工标注\n",
    "3. 回译"
   ]
  },
  {
   "cell_type": "markdown",
   "metadata": {},
   "source": [
    "### EDA"
   ]
  },
  {
   "cell_type": "code",
   "execution_count": 2,
   "metadata": {},
   "outputs": [
    {
     "data": {
      "text/plain": [
       "['精准 推销 的 定义 是 指 在 充分 了解 顾客 信息 的 基础上 ， 针对 客户 喜好 ， 有 系统性 地 同步进行 产品 推销 ， 在 掌握 一定 的 顾客 信息 和 市场 信息 后 ， 将 直复 推销 与 数据库 推销 融合 起来 的 推销 新趋势 。',\n",
       " '精准 顾客 的 定义 是 指 在 充分 了解 营销 信息 的 基础上 ， 针对 顾客 喜好 ， 有 客户 地 进行 产品 营销 ， 在 掌握 一定 的 针对性 信息 和 市场 信息 营销 ， 将 直复 营销 与 数据库 后 结合 起来 的 营销 新趋势 。',\n",
       " '精准 营销 的 定义 是 指 在 充分 了解 顾客 信息 的 基础上 度量 ， 针对 同义 客户 喜好 ， 有 针对性 地 进行 产品 营销 ， 在 掌握 一定 信息 的 顾客 信息 和 市场 信息 后 ， 将 直复 营销 与 数据库 营销 应有 结合 起来 的 营销 新趋势 。',\n",
       " '精准 营销 的 定义 是 指 在 充分 了解 顾客 信息 的 基础上 ， 针对 客户 喜好 ， 有 针对性 地 进行 产品 营销 ，                         在 掌握 一定 的 顾客 信息 和 市场 信息 后 ， 将 直复 营销 与 数据库 营销 结合 起来 的 营销 新趋势 。']"
      ]
     },
     "execution_count": 2,
     "metadata": {},
     "output_type": "execute_result"
    }
   ],
   "source": [
    "import eda\n",
    "\n",
    "sentence = \"精准营销的定义是指在充分了解顾客信息的基础上，针对客户喜好，有针对性地进行产品营销，\\\n",
    "            在掌握一定的顾客信息和市场信息后，将直复营销与数据库营销结合起来的营销新趋势。\"\n",
    "eda.eda(\n",
    "    sentence,\n",
    "    alpha_sr=0.1,    # synonym replacement\n",
    "    alpha_ri=0.1,    # random insertion\n",
    "    alpha_rs=0.1,    # random swap\n",
    "    p_rd=0.1,        # random deletion\n",
    "    num_aug=3,\n",
    ")"
   ]
  },
  {
   "cell_type": "markdown",
   "metadata": {},
   "source": [
    "### 人工标注"
   ]
  },
  {
   "cell_type": "code",
   "execution_count": 1,
   "metadata": {},
   "outputs": [
    {
     "data": {
      "application/vnd.jupyter.widget-view+json": {
       "model_id": "70b4c989f8a7476c8d4a84a657dfbc2c",
       "version_major": 2,
       "version_minor": 0
      },
      "text/plain": [
       "HTML(value='0 examples annotated, 6 examples left')"
      ]
     },
     "metadata": {},
     "output_type": "display_data"
    },
    {
     "data": {
      "application/vnd.jupyter.widget-view+json": {
       "model_id": "334a2eef78d2464eb0817521906d56fe",
       "version_major": 2,
       "version_minor": 0
      },
      "text/plain": [
       "VBox(children=(HBox(children=(ToggleButton(value=False, description='Adventure'), ToggleButton(value=False, de…"
      ]
     },
     "metadata": {},
     "output_type": "display_data"
    },
    {
     "data": {
      "application/vnd.jupyter.widget-view+json": {
       "model_id": "8682f7e7eb1a4a1caee95056a876303c",
       "version_major": 2,
       "version_minor": 0
      },
      "text/plain": [
       "Output()"
      ]
     },
     "metadata": {},
     "output_type": "display_data"
    }
   ],
   "source": [
    "from pigeonXT import annotate\n",
    "import pandas as pd\n",
    "\n",
    "df = pd.DataFrame([\n",
    "    {'title': 'Star wars'},\n",
    "    {'title': 'The Positively True Adventures of the Alleged Texas Cheerleader-Murdering Mom'},\n",
    "    {'title': 'Eternal Sunshine of the Spotless Mind'},\n",
    "    {'title': 'Dr. Strangelove or: How I Learned to Stop Worrying and Love the Bomb'},\n",
    "    {'title': 'Killer klowns from outer space'},\n",
    "])\n",
    "\n",
    "labels = ['Adventure', 'Romance', 'Fantasy', 'Science fiction', 'Horror', 'Thriller']\n",
    "\n",
    "annotations = annotate(df.title,\n",
    "                      options=labels,\n",
    "                      task_type='multilabel-classification',\n",
    "                      buttons_in_a_row=3,\n",
    "                      reset_buttons_after_click=True,\n",
    "                      include_skip=True)"
   ]
  },
  {
   "cell_type": "markdown",
   "metadata": {},
   "source": [
    "### Backtranslation"
   ]
  },
  {
   "cell_type": "code",
   "execution_count": 2,
   "metadata": {},
   "outputs": [
    {
     "name": "stderr",
     "output_type": "stream",
     "text": [
      "stdbuf was not found; communication with perl may hang due to stdio buffering.\n",
      "stdbuf was not found; communication with perl may hang due to stdio buffering.\n"
     ]
    }
   ],
   "source": [
    "from transformers import MarianMTModel, MarianTokenizer\n",
    "\n",
    "# Load model\n",
    "forward_model_name = '../model/Opus-MT/zho-eng'\n",
    "forward_tokenizer = MarianTokenizer.from_pretrained(forward_model_name)\n",
    "forward_model = MarianMTModel.from_pretrained(forward_model_name)\n",
    "\n",
    "backward_model_name = '../model/Opus-MT/eng-zho'\n",
    "backward_tokenizer = MarianTokenizer.from_pretrained(backward_model_name)  \n",
    "backward_model = MarianMTModel.from_pretrained(backward_model_name)"
   ]
  },
  {
   "cell_type": "code",
   "execution_count": 3,
   "metadata": {},
   "outputs": [
    {
     "name": "stdout",
     "output_type": "stream",
     "text": [
      "Original Text: ['我没我也没有说不还了，我也没有说不还了，你要我去打你，也打过来呀，对吧', '一旦如果以恶意欠款兴趣进行比较法务之后承担的后果和罚金会更多']\n",
      "Translated Text: [\"I didn't say no more. I didn't say no more. You wanted me to hit you.\", 'The consequences and penalties would be greater if the law were compared with the interest in malignant arrears.']\n",
      "Reversed Text: ['我没说没有了 我没说没有了 你想让我揍你', '如果将法律与恶性拖欠利息进行比较,后果和惩罚将更大。']\n"
     ]
    }
   ],
   "source": [
    "# input sentences\n",
    "src_text = ['我没我也没有说不还了，我也没有说不还了，你要我去打你，也打过来呀，对吧',\n",
    "            '一旦如果以恶意欠款兴趣进行比较法务之后承担的后果和罚金会更多']\n",
    "\n",
    "# backtranslation\n",
    "translated = forward_model.generate(**forward_tokenizer.prepare_translation_batch(src_text))\n",
    "translated_text = [forward_tokenizer.decode(t, skip_special_tokens=True) for t in translated]\n",
    "\n",
    "translated = backward_model.generate(**backward_tokenizer.prepare_translation_batch(translated_text))\n",
    "reversed_text = [backward_tokenizer.decode(t, skip_special_tokens=True) for t in translated]\n",
    "\n",
    "# print\n",
    "print(\"Original Text: {}\".format(src_text))\n",
    "print(\"Translated Text: {}\".format(translated_text))\n",
    "print(\"Reversed Text: {}\".format(reversed_text))"
   ]
  }
 ],
 "metadata": {
  "kernelspec": {
   "display_name": "Python 3",
   "language": "python",
   "name": "python3"
  },
  "language_info": {
   "codemirror_mode": {
    "name": "ipython",
    "version": 3
   },
   "file_extension": ".py",
   "mimetype": "text/x-python",
   "name": "python",
   "nbconvert_exporter": "python",
   "pygments_lexer": "ipython3",
   "version": "3.7.4"
  }
 },
 "nbformat": 4,
 "nbformat_minor": 4
}
